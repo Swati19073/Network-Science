{
 "cells": [
  {
   "cell_type": "code",
   "execution_count": 13,
   "metadata": {},
   "outputs": [],
   "source": [
    "import pickle\n",
    "db_class=open('C:\\\\Users\\\\HP\\\\OneDrive\\\\Desktop\\\\sem4\\\\NS\\\\project\\\\data4\\\\carts','rb')            #loading carts\n",
    "carts=pickle.load(db_class)"
   ]
  },
  {
   "cell_type": "code",
   "execution_count": 14,
   "metadata": {},
   "outputs": [],
   "source": [
    "db_class1=open('C:\\\\Users\\\\HP\\\\OneDrive\\\\Desktop\\\\sem4\\\\NS\\\\project\\\\data4\\\\f','rb')            #loading f score\n",
    "f=pickle.load(db_class1)"
   ]
  },
  {
   "cell_type": "code",
   "execution_count": 15,
   "metadata": {},
   "outputs": [],
   "source": [
    "db_class2=open('C:\\\\Users\\\\HP\\\\OneDrive\\\\Desktop\\\\sem4\\\\NS\\\\project\\\\data4\\\\weights','rb')            #loading weights\n",
    "weights=pickle.load(db_class2)"
   ]
  },
  {
   "cell_type": "code",
   "execution_count": 16,
   "metadata": {},
   "outputs": [],
   "source": [
    "db_class3=open('C:\\\\Users\\\\HP\\\\OneDrive\\\\Desktop\\\\sem4\\\\NS\\\\project\\\\data4\\\\g','rb')            #loading g\n",
    "g=pickle.load(db_class3)\n",
    "# print(g)"
   ]
  },
  {
   "cell_type": "code",
   "execution_count": 17,
   "metadata": {},
   "outputs": [],
   "source": [
    "db_class4=open('C:\\\\Users\\\\HP\\\\OneDrive\\\\Desktop\\\\sem4\\\\NS\\\\project\\\\data4\\\\prices','rb')            #loading prices\n",
    "prices=pickle.load(db_class4)\n",
    "# print(prices)"
   ]
  },
  {
   "cell_type": "code",
   "execution_count": 19,
   "metadata": {},
   "outputs": [],
   "source": [
    "# assigning delta price change to each node randomly\n",
    "import random\n",
    "price_change_pos={}\n",
    "price_change_neg={}\n",
    "for i in range(500):\n",
    "    p=random.uniform(0, 0.07)\n",
    "    price_change_pos[i]=p\n",
    "    price_change_neg[i]=(p*-1)\n",
    "    \n"
   ]
  },
  {
   "cell_type": "code",
   "execution_count": 20,
   "metadata": {},
   "outputs": [],
   "source": [
    "max_rev=0\n",
    "max_rev_u=0\n",
    "max_rev_v=0\n",
    "node_list=[]\n",
    "total_nodes=[]\n",
    "\n",
    "for i in range(500):\n",
    "    total_nodes.append(i)\n",
    "total_nodes=set(total_nodes)"
   ]
  },
  {
   "cell_type": "code",
   "execution_count": 21,
   "metadata": {},
   "outputs": [],
   "source": [
    "# function to create edge list corresponding to a cart\n",
    "def make_edge_list(cart):\n",
    "    edge_list={}\n",
    "    for i in range(500):\n",
    "        edge_list[i]=[]\n",
    "    \n",
    "    for i in cart:\n",
    "        for j in range(len(i)-1):\n",
    "            for k in (j+1,len(i)):\n",
    "                if k not in edge_list[j]:\n",
    "                    edge_list[j].append(k)\n",
    "                if j not in edge_list[k]:\n",
    "                    edge_list[k].append(j)\n",
    "    return edge_list"
   ]
  },
  {
   "cell_type": "code",
   "execution_count": 23,
   "metadata": {},
   "outputs": [],
   "source": [
    "#function to calculate the updated revenue after changing price of a node\n",
    "def calculate_max_revenue(price_new_u,price_new_v,f_new_u,f_new_v,g_new,edge_list1,prices1,f1,g1,u1,v1,revenue_dict1):\n",
    "    calc=0\n",
    "    prices1[u1]=price_new_u\n",
    "    prices1[v1]=price_new_v\n",
    "    f1[u1]=f_new_u\n",
    "    f1[v1]=f_new_v\n",
    "    if u1<v1:\n",
    "        g1[(u1,v1)]=g_new\n",
    "    else:\n",
    "        g1[(v1,u1)]=g_new\n",
    "        \n",
    "    revenue_dict1[u1]=0\n",
    "    for i in edge_list1[u1]:\n",
    "        if i <u1:\n",
    "            calc= calc+(prices1[u1]*(f1[u1]+g1[(i,u1)]))\n",
    "        else:\n",
    "            calc= calc+(prices1[u1]*(f1[u1]+g1[(u1,i)]))\n",
    "    revenue_dict1[u1]=calc\n",
    "        \n",
    "    total_c=sum(revenue_dict1.values())\n",
    "    return total_c\n",
    "    "
   ]
  },
  {
   "cell_type": "code",
   "execution_count": 24,
   "metadata": {},
   "outputs": [],
   "source": [
    "#strategy 3 implementation\n",
    "# this hurestic finds maximum revenue when price of u and v is changed (when u-v have an edge in common)\n",
    "def strategy2(cart,edge_list,f,g,revenue_dict):\n",
    "    \n",
    "    visited_edges=[]       # to keep track of traversed edges of a graph\n",
    "    node_list=[]           # to keep track of nodes with price change\n",
    "    node_revenue={}            # to keep track of revenue\n",
    "    while(len(node_list)<=100):\n",
    "        max_rev=0\n",
    "    \n",
    "        for u in edge_list:\n",
    "            price_new_u= prices[u]*(1+price_change_pos[u])            #calculating new price\n",
    "            f_new_u= f[u]*(1-price_change_pos[u])                      # calculating new f\n",
    "            for v in edge_list[u]:\n",
    "                if (u,v) not in visited_edges:\n",
    "                    price_new_v=prices[v]*(1+price_change_neg[v])           #calculating new price\n",
    "                    f_new_v= f[v]*(1-price_change_neg[v])                   # calculating new f\n",
    "                    if u<v:\n",
    "                        g_new= g[u,v]*(1-weights[u]*price_change_pos[u]+weights[v]*price_change_neg[v])  #calculating new g\n",
    "                    else:\n",
    "                        g_new= g[v,u]*(1-weights[u]*price_change_pos[u]+weights[v]*price_change_neg[v]) #calculating new g\n",
    "                    calc= calculate_max_revenue(price_new_u,price_new_v,f_new_u,f_new_v,g_new,edge_list,prices,f,g,u,v,revenue_dict)\n",
    "                    if calc > max_rev:    # finding max revenue\n",
    "                        max_rev= calc\n",
    "                        max_rev_u= u\n",
    "                        max_rev_v= v\n",
    "                    \n",
    "        if max_rev_u not in node_list:              #updating dictionaries based on new values    \n",
    "            node_list.append(max_rev_u)\n",
    "        if max_rev_v not in node_list:\n",
    "            node_list.append(max_rev_v)\n",
    "        prices[max_rev_u]= price_new_u\n",
    "        prices[max_rev_v]= price_new_v\n",
    "        f[max_rev_u]= f_new_u\n",
    "        f[max_rev_v]= f_new_v\n",
    "        visited_edges.append((max_rev_u,max_rev_v))\n",
    "        visited_edges.append((max_rev_v,max_rev_u))\n",
    "        node_revenue[len(node_list)]= max_rev\n",
    "        \n",
    "    return(node_revenue)\n",
    "        \n",
    "\n",
    "            \n",
    "            "
   ]
  },
  {
   "cell_type": "code",
   "execution_count": 26,
   "metadata": {},
   "outputs": [],
   "source": [
    "node_revenue_dict={}\n",
    "revenue_dict={}\n",
    "for i in carts:\n",
    "    edge_list= make_edge_list(carts[i])\n",
    "    for product in range(500):\n",
    "        revenue_dict[product]=0\n",
    "        revenue_dict[product]+=prices[product]*f[i][product]\n",
    "        for neighbour in edge_list[product]:\n",
    "            if(product<neighbour):\n",
    "                revenue_dict[product]+=prices[product]*g[i][(product,neighbour)]\n",
    "            else:\n",
    "                revenue_dict[product]+=prices[product]*g[i][(neighbour,product)]\n",
    "    d= strategy2(carts[i],edge_list,f[i],g[i],revenue_dict)\n",
    "    node_revenue_dict[i]=d"
   ]
  },
  {
   "cell_type": "code",
   "execution_count": 27,
   "metadata": {},
   "outputs": [],
   "source": [
    "import pickle\n",
    "db_class=open('result_1_08','wb')         #creating output revenue pickle\n",
    "pickle.dump(node_revenue_dict,db_class)\n",
    "db_class.close()"
   ]
  }
 ],
 "metadata": {
  "kernelspec": {
   "display_name": "Python 3",
   "language": "python",
   "name": "python3"
  },
  "language_info": {
   "codemirror_mode": {
    "name": "ipython",
    "version": 3
   },
   "file_extension": ".py",
   "mimetype": "text/x-python",
   "name": "python",
   "nbconvert_exporter": "python",
   "pygments_lexer": "ipython3",
   "version": "3.8.3"
  }
 },
 "nbformat": 4,
 "nbformat_minor": 4
}
