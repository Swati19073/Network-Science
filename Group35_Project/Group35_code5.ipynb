{
 "cells": [
  {
   "cell_type": "code",
   "execution_count": 1,
   "metadata": {},
   "outputs": [],
   "source": [
    "import pickle\n",
    "db_class=open('C:\\\\Users\\\\HP\\\\OneDrive\\\\Desktop\\\\sem4\\\\NS\\\\project\\\\data\\\\carts','rb')            #loading carts\n",
    "carts=pickle.load(db_class)"
   ]
  },
  {
   "cell_type": "code",
   "execution_count": 2,
   "metadata": {},
   "outputs": [],
   "source": [
    "def cc(itr):\n",
    "    itr_cart=carts[itr]\n",
    "    edge_list={}\n",
    "    for i in range(500):\n",
    "        edge_list[i]=[]\n",
    "    \n",
    "    for i in itr_cart:\n",
    "        for j in range(len(i)-1):\n",
    "            for k in (j+1,len(i)):\n",
    "                if k not in edge_list[j]:\n",
    "                    edge_list[j].append(k)\n",
    "                if j not in edge_list[k]:\n",
    "                    edge_list[k].append(j)\n",
    "    cc_itr=cc_calc(edge_list)\n",
    "    return cc_itr\n",
    "        "
   ]
  },
  {
   "cell_type": "code",
   "execution_count": 5,
   "metadata": {},
   "outputs": [],
   "source": [
    "#CLUSTERING COEFFICIENT\n",
    "def cc_calc(edge_list):\n",
    "    cc_t=0\n",
    "    for u in edge_list:\n",
    "        cc_u=0\n",
    "        k=len(edge_list[u])\n",
    "        cc_u=0\n",
    "        if k > 1:\n",
    "            c=0\n",
    "            s=[]\n",
    "            for v in edge_list[u]:\n",
    "                if u<v:\n",
    "                    lst1=edge_list[u]\n",
    "                    lst2=edge_list[v]\n",
    "                    s=list(set(lst1) & set(lst2))   #finding common nodes between the neighbours\n",
    "                    for w in s:\n",
    "                        if v<w:\n",
    "                            c=c+1                     #calculating total number of triangles for a node 'u'\n",
    "    \n",
    "            cc_u=(2*c)/(k*(k-1))                      #clustering coefficient for a node\n",
    "        cc_t=cc_t+cc_u\n",
    "    \n",
    "    avg_cc=cc_t/(len(edge_list))                          #computing average\n",
    "    return avg_cc"
   ]
  },
  {
   "cell_type": "code",
   "execution_count": 6,
   "metadata": {},
   "outputs": [
    {
     "name": "stdout",
     "output_type": "stream",
     "text": [
      "Average Clustering Coefficient is:  0.014500243692234535\n"
     ]
    }
   ],
   "source": [
    "s1=0\n",
    "for i in carts:\n",
    "    cc_itr=cc(i)\n",
    "    s1=s1+cc_itr\n",
    "s1=s1/10\n",
    "print(\"Average Clustering Coefficient is: \",s1)"
   ]
  },
  {
   "cell_type": "code",
   "execution_count": null,
   "metadata": {},
   "outputs": [],
   "source": []
  }
 ],
 "metadata": {
  "kernelspec": {
   "display_name": "Python 3",
   "language": "python",
   "name": "python3"
  },
  "language_info": {
   "codemirror_mode": {
    "name": "ipython",
    "version": 3
   },
   "file_extension": ".py",
   "mimetype": "text/x-python",
   "name": "python",
   "nbconvert_exporter": "python",
   "pygments_lexer": "ipython3",
   "version": "3.8.3"
  }
 },
 "nbformat": 4,
 "nbformat_minor": 4
}
