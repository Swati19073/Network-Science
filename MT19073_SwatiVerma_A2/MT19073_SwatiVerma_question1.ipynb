{
 "cells": [
  {
   "cell_type": "code",
   "execution_count": 17,
   "metadata": {},
   "outputs": [],
   "source": [
    "import numpy as np\n",
    "import random\n",
    "import matplotlib.pyplot as plt"
   ]
  },
  {
   "cell_type": "markdown",
   "metadata": {},
   "source": [
    "# Watts and Strogatz’s small-world network model\n",
    "\n",
    "1. We start from a ring of nodes, each node being connected to their immediate and next neighbors. Here I have taken 100 nodes and each node is connected to 4 nearest neighbors.\n",
    "\n",
    "2. Select a node and the edge that connects it to its nearest neighbour in a clockwise sense. With rewiring probability p ,reconnect this edge to a vertex chosen uniformly at random over the entire ring, with duplicate edges forbidden; otherwise leave the edge in place.A random number between 0-1 is generated and if the number is less than p, then rewiring is done by randomly choosing a node.\n",
    "\n",
    "3. Repeat this process by moving clockwise around the ring, considering each vertex in turn until one iteration is completed.\n",
    "\n",
    "4. Next, consider the edges that connect vertices to their second-nearest neighbours clockwise.\n",
    "\n",
    "5. As there are nk/2 edges in the entire graph, the rewiring process stops after k/2 iterations.\n",
    "\n",
    "In this question, I have implemented the whole algorithm from scratch without using any libraries for graph generation or manipulation."
   ]
  },
  {
   "cell_type": "markdown",
   "metadata": {},
   "source": [
    " The below function calculates average clustering coefficient for original graph.\n",
    " Calculating clustering coefficient of a node n = (number of edges between neighbors of the node n)/ (maximum possible edges between neighbors of node n). Clustering coefficient of each node is stored in a list clustering coeff and then average clustering coefficient is calculted which is coming 0.5 for original network."
   ]
  },
  {
   "cell_type": "code",
   "execution_count": 18,
   "metadata": {},
   "outputs": [],
   "source": [
    "\n",
    "def Clustering_Coefficient_o(adjacency_list,edge_list):\n",
    "    clustering_coeff=[]\n",
    "    for i in adjacency_list:\n",
    "        neighbors=adjacency_list[i]\n",
    "        count=0\n",
    "        n_=len(neighbors)\n",
    "        max_neigh_edges=(n_*(n_-1))/2\n",
    "#     print(max_neigh_edges)\n",
    "        for n1 in range(len(neighbors)):\n",
    "            for n2 in range(n1+1,len(neighbors)):\n",
    "                if (neighbors[n1],neighbors[n2]) in edge_list or (neighbors[n2],neighbors[n1]) in edge_list:\n",
    "                    count+=1\n",
    "        if max_neigh_edges!=0:\n",
    "            coeff=count/max_neigh_edges\n",
    "            clustering_coeff.append(coeff)\n",
    "    avg_cc=sum(clustering_coeff)/n\n",
    "    return avg_cc"
   ]
  },
  {
   "cell_type": "markdown",
   "metadata": {},
   "source": [
    "The below function calculates shortest path between source and destination nodes using BFS for original graph"
   ]
  },
  {
   "cell_type": "code",
   "execution_count": 19,
   "metadata": {},
   "outputs": [],
   "source": [
    "#https://www.geeksforgeeks.org/building-an-undirected-graph-and-finding-shortest-path-using-dictionaries-in-python/\n",
    "shortest_paths=[]\n",
    "def BFS_for_finding_Shortest_path_o(source, destination,adjacency_list): \n",
    "    visited = [] \n",
    "    #storing source node in a queue\n",
    "    queue = [[source]] \n",
    "    if source == destination: \n",
    "        shortest_paths.append(0)\n",
    "        return \n",
    "    #checking while queue is not empty\n",
    "    while queue: \n",
    "        visited_path = queue.pop(0) \n",
    "        vertex = visited_path[-1]  \n",
    "        if vertex not in visited: \n",
    "            neighbouring_nodes = adjacency_list[vertex] \n",
    "            for neighbour in neighbouring_nodes: \n",
    "                new_visited_path = list(visited_path) \n",
    "                new_visited_path.append(neighbour) \n",
    "                queue.append(new_visited_path) \n",
    "                # Condition to check if the neighbour node is the destination node \n",
    "                if neighbour == destination: \n",
    "                    shortest_paths.append(len(new_visited_path)-1)\n",
    "                    return\n",
    "            visited.append(vertex) \n",
    "#     print(\"Path does not exists\") \n",
    "    return "
   ]
  },
  {
   "cell_type": "markdown",
   "metadata": {},
   "source": [
    "Creating k regular graph such that each node in the graph is connected with k nearest neighbors and calculating its average path length and clustering coefficient"
   ]
  },
  {
   "cell_type": "code",
   "execution_count": 20,
   "metadata": {},
   "outputs": [],
   "source": [
    "#creating k regular graph such that each node in the graph is connected with k nearest neighbors\n",
    "def create_k_regular_graph(n,k):\n",
    "    final_deg_seq=[]\n",
    "    mat=np.zeros((n,n))\n",
    "#     initializing n*n matrix with all zeros\n",
    "    #creating k regular graph matrix such that each node is connected with k nearest neighbors\n",
    "    for i in range(n):\n",
    "        x=i\n",
    "        y=i\n",
    "        temp=[]\n",
    "        for j in range(k//2):\n",
    "            x=x+1\n",
    "            y=y-1\n",
    "            if(x==n):\n",
    "                x=0\n",
    "            if(y<0):\n",
    "                y=n-1\n",
    "            mat[i][x]=1\n",
    "            mat[i][y]=1\n",
    "            temp.append((i,x))\n",
    "        final_deg_seq.append(temp)\n",
    "    knn_dict={}\n",
    "    #knn_dict is a dictionary where key contains the values of k and values represents list of all the edges which are \n",
    "    # at dictance k from each other in clockwise direction\n",
    "    # example {1:[(1,2),(2,3),(3,4)], 2:[(1,3),(2,4)]} means nodes (1,2),(2,3) and (3,4) are at distance 1 from each other and \n",
    "    # nodes (1,3) and (2,4) are at distance 2(2nd nearest neighbor) from each other\n",
    "    c=1\n",
    "    for p in range(len(final_deg_seq[0])):\n",
    "        t1=[]\n",
    "        for q in range(len(final_deg_seq)):\n",
    "            t1.append(final_deg_seq[q][p])\n",
    "        knn_dict[c]=t1\n",
    "        c=c+1\n",
    "    # returning final adjacency matrix and knn dictionary\n",
    "    adjacency_list={} #contains neighbors of each node\n",
    "    it=0\n",
    "    for row in mat:\n",
    "        temp=[]\n",
    "        for v in range(len(row)):\n",
    "            if row[v]==1:\n",
    "                temp.append(v)\n",
    "        adjacency_list[it]=temp\n",
    "        it+=1\n",
    "    edge_list=[] # edge list contains all the edge pairs of the final network\n",
    "    for i in range(len(mat)):\n",
    "        for j in range(len(mat)):\n",
    "            if(mat[i][j]==1):\n",
    "                edge_list.append((i,j))\n",
    "    cc=Clustering_Coefficient_o(adjacency_list,edge_list)# average clustering coefficient\n",
    "    node_list=[]\n",
    "    for a in adjacency_list:\n",
    "        node_list.append(a)\n",
    "    for i in range(len(node_list)):\n",
    "        for j in range(i+1,len(node_list)):\n",
    "            BFS_for_finding_Shortest_path_o(node_list[i], node_list[j],adjacency_list)\n",
    "    pl=sum(shortest_paths)/(n*(n-1)/2)\n",
    "    return mat,knn_dict,cc,pl"
   ]
  },
  {
   "cell_type": "code",
   "execution_count": 21,
   "metadata": {},
   "outputs": [
    {
     "name": "stdout",
     "output_type": "stream",
     "text": [
      "Average clustering coefficient of original network is : 0.5\n",
      "Average path length of original network is : 12.878787878787879\n"
     ]
    }
   ],
   "source": [
    "n=100\n",
    "k=4\n",
    "adj_matrix,knn_dictionary,original_clus_coeff,original_path_len=create_k_regular_graph(n,k)\n",
    "print(\"Average clustering coefficient of original network is :\" ,original_clus_coeff )\n",
    "print(\"Average path length of original network is :\" ,original_path_len )\n",
    "# print(dic)"
   ]
  },
  {
   "cell_type": "markdown",
   "metadata": {},
   "source": [
    "Below function calculates shortest path between source and destination nodes using BFS of small world network"
   ]
  },
  {
   "cell_type": "code",
   "execution_count": 22,
   "metadata": {},
   "outputs": [],
   "source": [
    "#https://www.geeksforgeeks.org/building-an-undirected-graph-and-finding-shortest-path-using-dictionaries-in-python/\n",
    "\n",
    "def BFS_for_finding_Shortest_path(source, destination,shortest_paths,adjacency_list): \n",
    "    visited = [] \n",
    "    #storing source node in a queue\n",
    "    queue = [[source]] \n",
    "\n",
    "    if source == destination: \n",
    "        shortest_paths.append(0)\n",
    "        return \n",
    "    #checking while queue is not empty\n",
    "    while queue: \n",
    "        visited_path = queue.pop(0) \n",
    "        vertex = visited_path[-1]  \n",
    "        if vertex not in visited: \n",
    "            neighbouring_nodes = adjacency_list[vertex] \n",
    "\n",
    "            for neighbour in neighbouring_nodes: \n",
    "                new_visited_path = list(visited_path) \n",
    "                new_visited_path.append(neighbour) \n",
    "                queue.append(new_visited_path) \n",
    "                  \n",
    "                # Condition to check if the neighbour node is the destination node \n",
    "                if neighbour == destination: \n",
    "                    shortest_paths.append(len(new_visited_path)-1)\n",
    "                    return\n",
    "            visited.append(vertex) \n",
    "    print(\"Path does not exists\") \n",
    "    return "
   ]
  },
  {
   "cell_type": "markdown",
   "metadata": {},
   "source": [
    "The below function calculates average clustering coefficient of small world network.\n",
    "Calculating clustering coefficient of a node n = (number of edges between neighbors of the node n)/ (maximum possible edges between neighbors of node n). "
   ]
  },
  {
   "cell_type": "code",
   "execution_count": 23,
   "metadata": {},
   "outputs": [],
   "source": [
    "def Clustering_Coefficient(adjacency_list,edge_list):\n",
    "    clustering_coeff=[]\n",
    "    for i in adjacency_list:\n",
    "        neighbors=adjacency_list[i]\n",
    "        count=0\n",
    "        n_=len(neighbors)\n",
    "        max_neigh_edges=(n_*(n_-1))/2\n",
    "#     print(max_neigh_edges)\n",
    "        for n1 in range(len(neighbors)):\n",
    "            for n2 in range(n1+1,len(neighbors)):\n",
    "                if (neighbors[n1],neighbors[n2]) in edge_list or (neighbors[n2],neighbors[n1]) in edge_list:\n",
    "                    count+=1\n",
    "        if max_neigh_edges!=0:\n",
    "            coeff=count/max_neigh_edges\n",
    "            clustering_coeff.append(coeff)\n",
    "    avg_cc=sum(clustering_coeff)/n\n",
    "    return avg_cc"
   ]
  },
  {
   "cell_type": "markdown",
   "metadata": {},
   "source": [
    "# Creating small world network \n",
    "For different rewiring probabilities, I have created a small world by following Watts and Strogatz staregy. For each rewiring probability , scaled clustering coefficient and scaled path length has been calculated."
   ]
  },
  {
   "cell_type": "code",
   "execution_count": 24,
   "metadata": {},
   "outputs": [
    {
     "name": "stdout",
     "output_type": "stream",
     "text": [
      "Average clustering coeff for p=  0.001  is:  1.0\n",
      "Average path length for p=  0.001  is:  1.0\n",
      "Average clustering coeff for p=  0.004  is:  1.0\n",
      "Average path length for p=  0.004  is:  1.0\n",
      "Average clustering coeff for p=  0.006  is:  0.9646666666666668\n",
      "Average path length for p=  0.006  is:  0.8636078431372549\n",
      "Average clustering coeff for p=  0.008  is:  0.9233333333333335\n",
      "Average path length for p=  0.008  is:  0.7196078431372549\n",
      "Average clustering coeff for p=  0.01  is:  0.8913333333333334\n",
      "Average path length for p=  0.01  is:  0.573192156862745\n",
      "Average clustering coeff for p=  0.04  is:  0.8074761904761907\n",
      "Average path length for p=  0.04  is:  0.407764705882353\n",
      "Average clustering coeff for p=  0.06  is:  0.7408571428571429\n",
      "Average path length for p=  0.06  is:  0.3700705882352941\n",
      "Average clustering coeff for p=  0.08  is:  0.5428571428571428\n",
      "Average path length for p=  0.08  is:  0.31068235294117647\n",
      "Average clustering coeff for p=  0.1  is:  0.41377633477633474\n",
      "Average path length for p=  0.1  is:  0.27761568627450983\n",
      "Average clustering coeff for p=  0.2  is:  0.3985641259325472\n",
      "Average path length for p=  0.2  is:  0.24864313725490197\n",
      "Average clustering coeff for p=  0.5  is:  0.38091939831953275\n",
      "Average path length for p=  0.5  is:  0.20947450980392154\n"
     ]
    }
   ],
   "source": [
    "prob=[0.001,0.004,0.006,0.008,0.01,0.04,0.06,0.08,0.1,0.2, 0.5] #taking different values of rewiring probability\n",
    "scaled_avg_path_length=[] #stores scaled path length for each value of rewiring probability\n",
    "scaled_clust_coeffs=[] #stores scaled clustering coefficient for each value of rewiring probability\n",
    "for p in prob:\n",
    "    adj_mat=adj_matrix\n",
    "    for i in range(k//2): #loop k/2 times\n",
    "        for d in (knn_dictionary):\n",
    "            if d== i+1:\n",
    "                for d1 in knn_dictionary[d]:\n",
    "                    val=random.uniform(0,1) #generating random number between 0-1 and comparing it with rewiring probability value\n",
    "                    if(val<p):\n",
    "                        nod=random.randint(0,9)\n",
    "                        if(nod in d1):\n",
    "#                             print(d,nod,d1)\n",
    "                            continue\n",
    "                        else:\n",
    "#                             print(d,nod,d1,\"he\")\n",
    "                            adj_mat[d1[0]][d1[1]]=0 #removing old edge\n",
    "                            adj_mat[d1[1]][d1[0]]=0\n",
    "                            adj_mat[d1[0]][nod]=1 # rewiring edge\n",
    "                            adj_mat[nod][d1[0]]=1\n",
    "                    else:\n",
    "                        continue\n",
    "    edge_list=[] # edge list contains all the edge pairs of the final network\n",
    "    for i in range(len(adj_mat)):\n",
    "        for j in range(len(adj_mat)):\n",
    "            if(adj_mat[i][j]==1):\n",
    "                edge_list.append((i,j))\n",
    "    adjacency_list={} #contains neighbors of each node\n",
    "    it=0\n",
    "    for row in adj_mat:\n",
    "        temp=[]\n",
    "        for v in range(len(row)):\n",
    "            if row[v]==1:\n",
    "                temp.append(v)\n",
    "        adjacency_list[it]=temp\n",
    "        it+=1\n",
    "# print(adjacency_list)\n",
    "    path_length=[]  #stores path length for final network\n",
    "    cc1=Clustering_Coefficient(adjacency_list,edge_list)\n",
    "    print(\"Average clustering coeff for p= \",p, \" is: \", cc1/original_clus_coeff)\n",
    "    node_list=[]\n",
    "    for a in adjacency_list:\n",
    "        node_list.append(a)\n",
    "    \n",
    "    for i in range(len(node_list)):\n",
    "        for j in range(i+1,len(node_list)):\n",
    "            BFS_for_finding_Shortest_path(node_list[i], node_list[j],path_length,adjacency_list)\n",
    "    total_edges=(n*(n-1))/2\n",
    "    pl1=sum(path_length)/total_edges\n",
    "    print(\"Average path length for p= \",p, \" is: \", pl1/original_path_len)\n",
    "    apl=pl1/original_path_len\n",
    "    acc=cc1/original_clus_coeff\n",
    "    scaled_avg_path_length.append(apl)\n",
    "    scaled_clust_coeffs.append(acc)"
   ]
  },
  {
   "cell_type": "code",
   "execution_count": 25,
   "metadata": {},
   "outputs": [
    {
     "name": "stdout",
     "output_type": "stream",
     "text": [
      "Sclaed average path lengths for different values of p are:  [1.0, 1.0, 0.8636078431372549, 0.7196078431372549, 0.573192156862745, 0.407764705882353, 0.3700705882352941, 0.31068235294117647, 0.27761568627450983, 0.24864313725490197, 0.20947450980392154] \n",
      "\n",
      "Scaled average clustering coefficient for different values of p are:  [1.0, 1.0, 0.9646666666666668, 0.9233333333333335, 0.8913333333333334, 0.8074761904761907, 0.7408571428571429, 0.5428571428571428, 0.41377633477633474, 0.3985641259325472, 0.38091939831953275]\n"
     ]
    }
   ],
   "source": [
    "print(\"Sclaed average path lengths for different values of p are: \", scaled_avg_path_length,\"\\n\" )\n",
    "\n",
    "print(\"Scaled average clustering coefficient for different values of p are: \",scaled_clust_coeffs)"
   ]
  },
  {
   "cell_type": "markdown",
   "metadata": {},
   "source": [
    "# Plotting graph for scaled clustering coefficient and scaled characterstic path length for 9 rewiring probability values.\n",
    "\n",
    "The graph obtained is replica of the one given in assignment. It can be seen that the scaled characteristic path length and scaled clustering coefficient is high initially due to small value of rewiring probability.In other words we can say that initially when the randomness in the network was less, the network acts as a regular network with high path length and high scaled clusering coefficient.\n",
    "\n",
    "As soon as the value of rewiring probability increases or the randomess in the network increases the values of clustering coefficient and avg path length also decreases. That is why when the rewiring probability is very high then the network becomes random network. The network in the intermedite values of probability are called small world network."
   ]
  },
  {
   "cell_type": "code",
   "execution_count": 26,
   "metadata": {},
   "outputs": [
    {
     "name": "stderr",
     "output_type": "stream",
     "text": [
      "No handles with labels found to put in legend.\n"
     ]
    },
    {
     "data": {
      "image/png": "[encoded data removed]",
      "text/plain": [
       "<Figure size 432x288 with 1 Axes>"
      ]
     },
     "metadata": {
      "needs_background": "light"
     },
     "output_type": "display_data"
    }
   ],
   "source": [
    "import matplotlib.pyplot as plt \n",
    "# plot lines \n",
    "# plt.scatter(prob, scaled_avg_path_length,c='green', label = \"Scaled path length\") \n",
    "plt.plot(prob, scaled_avg_path_length, color='green', linestyle='dashed', linewidth = 3,marker='*', markerfacecolor='blue', markersize=12)\n",
    "plt.plot(prob, scaled_clust_coeffs, color='red', linestyle='dashed', linewidth = 3,marker='*', markerfacecolor='blue', markersize=12)\n",
    "# plt.scatter(prob, scaled_clust_coeffs,c='red', label = \"Scaled Clustering coef\") \n",
    "plt.legend() \n",
    "plt.xlabel(\"P\")\n",
    "plt.xscale(\"log\")\n",
    "plt.title(\"P vs Scaled Clustering Coefficient & Scaled Characteristic Path Length\")\n",
    "plt.show()"
   ]
  },
  {
   "cell_type": "code",
   "execution_count": null,
   "metadata": {},
   "outputs": [],
   "source": []
  }
 ],
 "metadata": {
  "kernelspec": {
   "display_name": "Python 3",
   "language": "python",
   "name": "python3"
  },
  "language_info": {
   "codemirror_mode": {
    "name": "ipython",
    "version": 3
   },
   "file_extension": ".py",
   "mimetype": "text/x-python",
   "name": "python",
   "nbconvert_exporter": "python",
   "pygments_lexer": "ipython3",
   "version": "3.7.7"
  }
 },
 "nbformat": 4,
 "nbformat_minor": 4
}
